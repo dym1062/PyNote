{
 "cells": [
  {
   "cell_type": "code",
   "execution_count": 1,
   "metadata": {},
   "outputs": [],
   "source": [
    "#a slow but sustainble process is needed for me\n",
    "#so i will start learning today\n",
    "#some of the contents come from Internet,i wrote it just for myself\n",
    "#20201210 Dalian"
   ]
  },
  {
   "cell_type": "code",
   "execution_count": 2,
   "metadata": {},
   "outputs": [],
   "source": [
    "#载入torch\n",
    "import torch"
   ]
  },
  {
   "cell_type": "code",
   "execution_count": 3,
   "metadata": {},
   "outputs": [
    {
     "data": {
      "text/plain": [
       "tensor([[9.2755e-39, 1.0561e-38, 4.5001e-39],\n",
       "        [4.9592e-39, 4.8674e-39, 4.2246e-39],\n",
       "        [1.0286e-38, 1.0653e-38, 1.0194e-38],\n",
       "        [8.4490e-39, 1.0469e-38, 9.3674e-39],\n",
       "        [9.9184e-39, 8.7245e-39, 9.2755e-39]])"
      ]
     },
     "execution_count": 3,
     "metadata": {},
     "output_type": "execute_result"
    }
   ],
   "source": [
    "#创建一个未初始化的5x3张量\n",
    "x=torch.empty(5,3)\n",
    "x"
   ]
  },
  {
   "cell_type": "code",
   "execution_count": 4,
   "metadata": {},
   "outputs": [
    {
     "data": {
      "text/plain": [
       "tensor([[0.9009, 0.7401, 0.7701],\n",
       "        [0.0053, 0.9676, 0.0085],\n",
       "        [0.1120, 0.8525, 0.2970],\n",
       "        [0.7305, 0.4889, 0.5521],\n",
       "        [0.8429, 0.6375, 0.1248]])"
      ]
     },
     "execution_count": 4,
     "metadata": {},
     "output_type": "execute_result"
    }
   ],
   "source": [
    "#创建一个随机的张量，其值在0到1之间\n",
    "x=torch.rand(5,3)\n",
    "x\n",
    "#torch.float32\n",
    "#可通过x.dtype获得"
   ]
  },
  {
   "cell_type": "code",
   "execution_count": 5,
   "metadata": {},
   "outputs": [
    {
     "data": {
      "text/plain": [
       "tensor([[0., 0., 0.],\n",
       "        [0., 0., 0.],\n",
       "        [0., 0., 0.],\n",
       "        [0., 0., 0.],\n",
       "        [0., 0., 0.]], dtype=torch.float64)"
      ]
     },
     "execution_count": 5,
     "metadata": {},
     "output_type": "execute_result"
    }
   ],
   "source": [
    "x=torch.zeros(5,3,dtype=torch.float64)\n",
    "x\n",
    "#也有torch.ones"
   ]
  },
  {
   "cell_type": "code",
   "execution_count": 6,
   "metadata": {},
   "outputs": [
    {
     "data": {
      "text/plain": [
       "tensor([[5, 3],\n",
       "        [1, 2]])"
      ]
     },
     "execution_count": 6,
     "metadata": {},
     "output_type": "execute_result"
    }
   ],
   "source": [
    "#直接从数组获得张量\n",
    "x=torch.tensor([[5,3],[1,2]])\n",
    "x\n",
    "#x.dtype is torch.int64"
   ]
  },
  {
   "cell_type": "code",
   "execution_count": 7,
   "metadata": {},
   "outputs": [
    {
     "data": {
      "text/plain": [
       "tensor([[87, 39],\n",
       "        [93, 43]])"
      ]
     },
     "execution_count": 7,
     "metadata": {},
     "output_type": "execute_result"
    }
   ],
   "source": [
    "#从已有张量获取新张量\n",
    "y=torch.randint_like(x,high=100)\n",
    "y\n",
    "#rand(区间随机)，randn(正态)"
   ]
  },
  {
   "cell_type": "code",
   "execution_count": 8,
   "metadata": {},
   "outputs": [
    {
     "name": "stdout",
     "output_type": "stream",
     "text": [
      "torch.Size([2, 2])\n",
      "<built-in method size of Tensor object at 0x000001828012C340>\n"
     ]
    }
   ],
   "source": [
    "#返回张量的size\n",
    "print(y.size())\n",
    "print(y.size)"
   ]
  },
  {
   "cell_type": "code",
   "execution_count": 9,
   "metadata": {},
   "outputs": [
    {
     "name": "stdout",
     "output_type": "stream",
     "text": [
      "tensor([[92, 42],\n",
      "        [94, 45]])\n",
      "tensor([[92, 42],\n",
      "        [94, 45]])\n"
     ]
    },
    {
     "data": {
      "text/plain": [
       "tensor([[92, 42],\n",
       "        [94, 45]])"
      ]
     },
     "execution_count": 9,
     "metadata": {},
     "output_type": "execute_result"
    }
   ],
   "source": [
    "#加的三种写法\n",
    "print(x+y)\n",
    "z=torch.zeros_like(x)\n",
    "torch.add(x,y,out=z)\n",
    "print(z)\n",
    "x.add_(y)"
   ]
  },
  {
   "cell_type": "code",
   "execution_count": 10,
   "metadata": {},
   "outputs": [
    {
     "name": "stdout",
     "output_type": "stream",
     "text": [
      "tensor([92, 42])\n",
      "tensor([42, 45])\n"
     ]
    }
   ],
   "source": [
    "print(z[0,:])\n",
    "print(z[:,1])"
   ]
  },
  {
   "cell_type": "code",
   "execution_count": 11,
   "metadata": {},
   "outputs": [
    {
     "data": {
      "text/plain": [
       "tensor([-0.7454,  0.6813,  0.2490, -0.6577, -0.4186,  0.6003,  0.9654, -0.2390,\n",
       "         0.0580])"
      ]
     },
     "execution_count": 11,
     "metadata": {},
     "output_type": "execute_result"
    }
   ],
   "source": [
    "x=torch.randn(3,3)\n",
    "y=x.view(-1)\n",
    "y\n",
    "#pytorch中的view类似于numpy中的reshape"
   ]
  },
  {
   "cell_type": "code",
   "execution_count": 12,
   "metadata": {},
   "outputs": [
    {
     "name": "stdout",
     "output_type": "stream",
     "text": [
      "tensor(-0.7454)\n",
      "-0.745448112487793\n"
     ]
    }
   ],
   "source": [
    "#取出数字，只能对单位张量使用\n",
    "print(x[0,0])\n",
    "print(x[0,0].item())"
   ]
  },
  {
   "cell_type": "code",
   "execution_count": 13,
   "metadata": {},
   "outputs": [
    {
     "data": {
      "text/plain": [
       "array([[0.5654776 , 0.09396446, 0.3307743 ],\n",
       "       [0.12376273, 0.96479946, 0.22891533]], dtype=float32)"
      ]
     },
     "execution_count": 13,
     "metadata": {},
     "output_type": "execute_result"
    }
   ],
   "source": [
    "#到numpy的转换\n",
    "x=torch.rand(2,3)\n",
    "y=x.numpy()\n",
    "y"
   ]
  },
  {
   "cell_type": "code",
   "execution_count": 14,
   "metadata": {},
   "outputs": [
    {
     "name": "stdout",
     "output_type": "stream",
     "text": [
      "tensor([[1.5655, 1.0940, 1.3308],\n",
      "        [1.1238, 1.9648, 1.2289]])\n",
      "[[1.5654776 1.0939645 1.3307743]\n",
      " [1.1237627 1.9647994 1.2289153]]\n"
     ]
    }
   ],
   "source": [
    "#观察x，y值的变化\n",
    "x.add_(1)\n",
    "#若使用x=x+1,则结果不同\n",
    "print(x)\n",
    "print(y)"
   ]
  },
  {
   "cell_type": "code",
   "execution_count": 15,
   "metadata": {},
   "outputs": [
    {
     "name": "stdout",
     "output_type": "stream",
     "text": [
      "1660006123200\n",
      "1660006115248\n",
      "1660006151232\n",
      "1660006151232\n"
     ]
    }
   ],
   "source": [
    "#观察其id\n",
    "print(id(x))\n",
    "print(id(y))\n",
    "x=x+1\n",
    "print(id(x))\n",
    "x.add_(1)\n",
    "print(id(x))"
   ]
  },
  {
   "cell_type": "code",
   "execution_count": 16,
   "metadata": {},
   "outputs": [],
   "source": [
    "import numpy as np"
   ]
  },
  {
   "cell_type": "code",
   "execution_count": 17,
   "metadata": {},
   "outputs": [
    {
     "data": {
      "text/plain": [
       "array([[1., 1., 1.],\n",
       "       [1., 1., 1.]])"
      ]
     },
     "execution_count": 17,
     "metadata": {},
     "output_type": "execute_result"
    }
   ],
   "source": [
    "a=np.ones((2,3))\n",
    "a"
   ]
  },
  {
   "cell_type": "code",
   "execution_count": 18,
   "metadata": {},
   "outputs": [
    {
     "data": {
      "text/plain": [
       "array([[1., 1., 1.],\n",
       "       [1., 1., 1.]])"
      ]
     },
     "execution_count": 18,
     "metadata": {},
     "output_type": "execute_result"
    }
   ],
   "source": [
    "#numpy到张量的转化\n",
    "b=torch.from_numpy(a)\n",
    "a"
   ]
  },
  {
   "cell_type": "code",
   "execution_count": 19,
   "metadata": {},
   "outputs": [
    {
     "name": "stdout",
     "output_type": "stream",
     "text": [
      "1660006117248\n",
      "1660006117248\n",
      "[[2. 2. 2.]\n",
      " [2. 2. 2.]]\n",
      "tensor([[2., 2., 2.],\n",
      "        [2., 2., 2.]], dtype=torch.float64)\n"
     ]
    }
   ],
   "source": [
    "#再次观察不同的加法的区别\n",
    "print(id(a))\n",
    "np.add(a,1,out=a)\n",
    "print(id(a))\n",
    "print(a)\n",
    "print(b)"
   ]
  },
  {
   "cell_type": "code",
   "execution_count": null,
   "metadata": {},
   "outputs": [],
   "source": []
  }
 ],
 "metadata": {
  "kernelspec": {
   "display_name": "Python 3",
   "language": "python",
   "name": "python3"
  },
  "language_info": {
   "codemirror_mode": {
    "name": "ipython",
    "version": 3
   },
   "file_extension": ".py",
   "mimetype": "text/x-python",
   "name": "python",
   "nbconvert_exporter": "python",
   "pygments_lexer": "ipython3",
   "version": "3.8.5"
  }
 },
 "nbformat": 4,
 "nbformat_minor": 4
}
